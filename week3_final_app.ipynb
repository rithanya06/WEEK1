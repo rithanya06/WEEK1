{
  "nbformat": 4,
  "nbformat_minor": 0,
  "metadata": {
    "colab": {
      "provenance": [],
      "authorship_tag": "ABX9TyMVFV8L2JxvUlvi9fyK2wyo",
      "include_colab_link": true
    },
    "kernelspec": {
      "name": "python3",
      "display_name": "Python 3"
    },
    "language_info": {
      "name": "python"
    }
  },
  "cells": [
    {
      "cell_type": "markdown",
      "metadata": {
        "id": "view-in-github",
        "colab_type": "text"
      },
      "source": [
        "<a href=\"https://colab.research.google.com/github/rithanya06/WEEK1/blob/main/week3_final_app.ipynb\" target=\"_parent\"><img src=\"https://colab.research.google.com/assets/colab-badge.svg\" alt=\"Open In Colab\"/></a>"
      ]
    },
    {
      "cell_type": "code",
      "execution_count": null,
      "metadata": {
        "id": "yH1qmz9xkiVb"
      },
      "outputs": [],
      "source": [
        "import pandas as pd\n",
        "import numpy as np\n",
        "import joblib\n",
        "import pickle\n",
        "import streamlit as st\n",
        "\n",
        "# Load the model and structure\n",
        "model = joblib.load(\"pollution_model.pkl\")\n",
        "model_cols = joblib.load(\"model_columns.pkl\")\n",
        "\n",
        "# Let's create an User interface\n",
        "st.title(\"Water Pollutants Predictor\")\n",
        "st.write(\"Predict the water pollutants based on Year and Station ID\")\n",
        "\n",
        "# User inputs\n",
        "year_input = st.number_input(\"Enter Year\", min_value=2000, max_value=2100, value=2022)\n",
        "station_id = st.text_input(\"Enter Station ID\", value='1')\n",
        "\n",
        "# To encode and then predict\n",
        "if st.button('Predict'):\n",
        "    if not station_id:\n",
        "        st.warning('Please enter the station ID')\n",
        "    else:\n",
        "        # Prepare the input\n",
        "        input_df = pd.DataFrame({'year': [year_input], 'id':[station_id]})\n",
        "        input_encoded = pd.get_dummies(input_df, columns=['id'])\n",
        "\n",
        "        # Align with model cols\n",
        "        for col in model_cols:\n",
        "            if col not in input_encoded.columns:\n",
        "                input_encoded[col] = 0\n",
        "        input_encoded = input_encoded[model_cols]\n",
        "\n",
        "        # Predict\n",
        "        predicted_pollutants = model.predict(input_encoded)[0]\n",
        "        pollutants = ['O2', 'NO3', 'NO2', 'SO4', 'PO4', 'CL']\n",
        "\n",
        "        st.subheader(f\"Predicted pollutant levels for the station '{station_id}' in {year_input}:\")\n",
        "        predicted_values = {}\n",
        "        for p, val in zip(pollutants, predicted_pollutants):\n",
        "            st.write(f'{p}:{val:.2f}')"
      ]
    }
  ]
}